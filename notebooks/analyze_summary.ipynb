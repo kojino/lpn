{
 "cells": [
  {
   "cell_type": "code",
   "execution_count": 4,
   "metadata": {},
   "outputs": [],
   "source": [
    "from operator import itemgetter "
   ]
  },
  {
   "cell_type": "code",
   "execution_count": 5,
   "metadata": {},
   "outputs": [],
   "source": [
    "lines = tuple(open('../summary_full/grep.txt', 'r'))"
   ]
  },
  {
   "cell_type": "code",
   "execution_count": 7,
   "metadata": {},
   "outputs": [
    {
     "data": {
      "text/plain": [
       "['==> summary', 'deeplp', '-10.0', '0.csv <==\\n']"
      ]
     },
     "execution_count": 7,
     "metadata": {},
     "output_type": "execute_result"
    }
   ],
   "source": [
    "a"
   ]
  },
  {
   "cell_type": "code",
   "execution_count": 16,
   "metadata": {},
   "outputs": [],
   "source": [
    "ress = []\n",
    "for i in range(int(len(lines)/3)):\n",
    "    a = lines[3*i].split(\"_\")\n",
    "    b = lines[3*i+1].split(\",\")\n",
    "    \n",
    "    res = list(itemgetter(*[2,3])(a)) + b\n",
    "    res[1] = res[1].split('.')[0]\n",
    "    res_ = []\n",
    "    for el in res:\n",
    "        el = el.replace('\\n','')\n",
    "        try:\n",
    "            res_.append(float(el))\n",
    "        except:\n",
    "            res_.append(el)\n",
    "    ress.append(res_)\n",
    "    "
   ]
  },
  {
   "cell_type": "code",
   "execution_count": 17,
   "metadata": {},
   "outputs": [
    {
     "data": {
      "text/plain": [
       "[-10.0, 0.0, 0.0, 0.666667, 0.242477, 0.0, 0.0, 0.245378]"
      ]
     },
     "execution_count": 17,
     "metadata": {},
     "output_type": "execute_result"
    }
   ],
   "source": [
    "ress[0]"
   ]
  },
  {
   "cell_type": "code",
   "execution_count": 18,
   "metadata": {},
   "outputs": [],
   "source": [
    "import pandas as pd\n",
    "df = pd.DataFrame(ress, columns=['lamda','split','crossval','acc','l_o_loss','a','b','obj'])\n"
   ]
  },
  {
   "cell_type": "code",
   "execution_count": 19,
   "metadata": {},
   "outputs": [],
   "source": [
    "idx = df.groupby(['split'])['acc'].transform(max) == df['acc']"
   ]
  },
  {
   "cell_type": "code",
   "execution_count": 20,
   "metadata": {},
   "outputs": [],
   "source": [
    "df_sub = df[idx].sort_values(['split'])"
   ]
  },
  {
   "cell_type": "code",
   "execution_count": 21,
   "metadata": {},
   "outputs": [],
   "source": [
    "prev = -20\n",
    "final = []\n",
    "for index, row in df_sub.iterrows():\n",
    "    if prev == row['split']:\n",
    "        pass\n",
    "    else:\n",
    "        final.append(row)\n",
    "    prev = row['split']"
   ]
  },
  {
   "cell_type": "code",
   "execution_count": 23,
   "metadata": {},
   "outputs": [
    {
     "data": {
      "text/plain": [
       "10    0.685366\n",
       "21    0.673984\n",
       "22    0.710976\n",
       "13    0.644309\n",
       "34    0.686992\n",
       "25    0.581301\n",
       "26    0.749187\n",
       "46    0.676829\n",
       "91    0.645122\n",
       "84    0.686585\n",
       "Name: acc, dtype: float64"
      ]
     },
     "execution_count": 23,
     "metadata": {},
     "output_type": "execute_result"
    }
   ],
   "source": [
    "pd.DataFrame(final).acc"
   ]
  },
  {
   "cell_type": "code",
   "execution_count": 68,
   "metadata": {},
   "outputs": [],
   "source": [
    "pd.DataFrame(final).iloc[:,[0,1,2,3,5,6,9]].to_csv('pubmed_k.csv')"
   ]
  },
  {
   "cell_type": "code",
   "execution_count": null,
   "metadata": {},
   "outputs": [],
   "source": []
  }
 ],
 "metadata": {
  "kernelspec": {
   "display_name": "ml",
   "language": "python",
   "name": "ml"
  },
  "language_info": {
   "codemirror_mode": {
    "name": "ipython",
    "version": 3
   },
   "file_extension": ".py",
   "mimetype": "text/x-python",
   "name": "python",
   "nbconvert_exporter": "python",
   "pygments_lexer": "ipython3",
   "version": "3.6.3"
  }
 },
 "nbformat": 4,
 "nbformat_minor": 2
}

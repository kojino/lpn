{
 "cells": [
  {
   "cell_type": "code",
   "execution_count": 1,
   "metadata": {},
   "outputs": [],
   "source": [
    "import numpy as np"
   ]
  },
  {
   "cell_type": "code",
   "execution_count": 17,
   "metadata": {},
   "outputs": [],
   "source": [
    "from __future__ import print_function\n",
    "from pathlib import Path\n",
    "from random import shuffle\n",
    "import random\n",
    "\n",
    "import argparse\n",
    "import copy\n",
    "import numpy as np\n",
    "import sys\n",
    "import tensorflow as tf\n",
    "import scipy.sparse as sp\n",
    "import sys\n",
    "\n",
    "import sys\n",
    "sys.path.append(\"..\") \n",
    "from deeplp.models.deeplp_att import DeepLP_ATT\n",
    "from deeplp.models.deeplp_edge import DeepLP_Edge\n",
    "from deeplp.models.deeplp_wrbf import DeepLP_WRBF\n",
    "from deeplp.models.lp import LP\n",
    "from deeplp.utils import (calc_masks, create_seed_features, load_data,\n",
    "                          num_layers_dict, prepare_data, random_unlabel, rbf)\n",
    "\n",
    "from sklearn.metrics.pairwise import euclidean_distances\n",
    "from sklearn.metrics.pairwise import rbf_kernel\n",
    "from scipy.sparse import coo_matrix, csr_matrix"
   ]
  },
  {
   "cell_type": "code",
   "execution_count": 13,
   "metadata": {},
   "outputs": [],
   "source": [
    "x = np.loadtxt('../data/linqs_cora/features_raw.csv', delimiter=',')"
   ]
  },
  {
   "cell_type": "code",
   "execution_count": 19,
   "metadata": {},
   "outputs": [],
   "source": [
    "raw_features = node_features_np_to_sparse(x)"
   ]
  },
  {
   "cell_type": "code",
   "execution_count": 15,
   "metadata": {},
   "outputs": [],
   "source": [
    "def node_features_np_to_sparse(node_features, values=False):\n",
    "    \"\"\"\n",
    "    Convert np array with each row being (row_index,col_index,value)\n",
    "    of a graph to a scipy csr matrix.\n",
    "    \"\"\"\n",
    "    num_rows = int(max(node_features[:, 0]) + 1)\n",
    "    num_cols = int(max(node_features[:, 1]) + 1)\n",
    "    vals = np.ones(len(node_features[:, 0]))\n",
    "    csr = csr_matrix(\n",
    "        (vals, (node_features[:, 0], node_features[:, 1])),\n",
    "        shape=(num_rows, num_cols))\n",
    "    return csr"
   ]
  },
  {
   "cell_type": "code",
   "execution_count": 20,
   "metadata": {},
   "outputs": [],
   "source": [
    "true_labels, _, weights = load_data(\n",
    "    'linqs_cora', model='edge', feature_type='all')"
   ]
  },
  {
   "cell_type": "code",
   "execution_count": 24,
   "metadata": {},
   "outputs": [],
   "source": [
    "def create_weighted_graph(features,graph):\n",
    "    \"\"\"Use RBF kernel to calculate the weights of edges\n",
    "    Input:\n",
    "        features: features to calculate the RBF kernel\n",
    "        sigma: RBF kernel parameter if None, set it to num_features * 10\n",
    "        graph: if [], construct a graph using RBF kernel, if given, use it\n",
    "        num_neighbors: number of neighbors (based on edge weights) to form edges\n",
    "    Returns:\n",
    "        weight matrix and graph matrix\n",
    "    \"\"\"\n",
    "\n",
    "    print('Constructing weights...')\n",
    "\n",
    "    features_dense = features.toarray()\n",
    "\n",
    "    # estimate sigma by taking the average of the lowest weights for each node\n",
    "    def get_lowest_weight(row):\n",
    "        return np.sort(row[np.nonzero(row)])[::-1][-1]\n",
    "    D = euclidean_distances(features_dense, features_dense)\n",
    "    lowest_dists = np.apply_along_axis(get_lowest_weight,0,D*graph)\n",
    "    sigma = np.mean(lowest_dists)**2\n",
    "\n",
    "    # use rbf kernel to estimate weights between nodes\n",
    "    weights_dense = rbf_kernel(features_dense, gamma=1/sigma)\n",
    "\n",
    "    weights_sp = graph.multiply(weights_dense)\n",
    "\n",
    "    print('Done!')\n",
    "\n",
    "    return weights_sp, graph, sigma"
   ]
  },
  {
   "cell_type": "code",
   "execution_count": 25,
   "metadata": {},
   "outputs": [
    {
     "name": "stdout",
     "output_type": "stream",
     "text": [
      "Constructing weights...\n",
      "Done!\n"
     ]
    },
    {
     "data": {
      "text/plain": [
       "(<2485x2485 sparse matrix of type '<class 'numpy.float64'>'\n",
       " \twith 10138 stored elements in COOrdinate format>,\n",
       " <2485x2485 sparse matrix of type '<class 'numpy.float64'>'\n",
       " \twith 10138 stored elements in Compressed Sparse Row format>,\n",
       " 248.01779798013024)"
      ]
     },
     "execution_count": 25,
     "metadata": {},
     "output_type": "execute_result"
    }
   ],
   "source": [
    "create_weighted_graph(raw_features, weights)"
   ]
  },
  {
   "cell_type": "code",
   "execution_count": 8,
   "metadata": {},
   "outputs": [
    {
     "data": {
      "text/plain": [
       "((2708, 1433), (2485, 2485))"
      ]
     },
     "execution_count": 8,
     "metadata": {},
     "output_type": "execute_result"
    }
   ],
   "source": [
    "x.shape,weights.shape"
   ]
  },
  {
   "cell_type": "code",
   "execution_count": 29,
   "metadata": {},
   "outputs": [],
   "source": [
    "np.set_printoptions(suppress=True)"
   ]
  },
  {
   "cell_type": "code",
   "execution_count": 36,
   "metadata": {},
   "outputs": [],
   "source": [
    "x = np.loadtxt('../data/linqs_pubmed/graph_directed.csv', delimiter=',')"
   ]
  },
  {
   "cell_type": "code",
   "execution_count": 37,
   "metadata": {},
   "outputs": [],
   "source": [
    "np.savetxt('../data/linqs_pubmed/graph_directed.txt',x.astype(int),fmt='%d')"
   ]
  },
  {
   "cell_type": "code",
   "execution_count": 31,
   "metadata": {},
   "outputs": [
    {
     "data": {
      "text/plain": [
       "array([[   1, 1147],\n",
       "       [   1, 1705],\n",
       "       [   1, 2205],\n",
       "       ...,\n",
       "       [2482, 1893],\n",
       "       [2482, 1895],\n",
       "       [2484, 1894]])"
      ]
     },
     "execution_count": 31,
     "metadata": {},
     "output_type": "execute_result"
    }
   ],
   "source": [
    "x.astype(int)"
   ]
  },
  {
   "cell_type": "code",
   "execution_count": null,
   "metadata": {},
   "outputs": [],
   "source": []
  }
 ],
 "metadata": {
  "kernelspec": {
   "display_name": "ml",
   "language": "python",
   "name": "ml"
  },
  "language_info": {
   "codemirror_mode": {
    "name": "ipython",
    "version": 3
   },
   "file_extension": ".py",
   "mimetype": "text/x-python",
   "name": "python",
   "nbconvert_exporter": "python",
   "pygments_lexer": "ipython3",
   "version": "3.6.3"
  }
 },
 "nbformat": 4,
 "nbformat_minor": 2
}

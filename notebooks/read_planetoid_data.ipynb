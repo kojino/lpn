{
 "cells": [
  {
   "cell_type": "code",
   "execution_count": 59,
   "metadata": {},
   "outputs": [],
   "source": [
    "import numpy as np\n",
    "import pickle as pkl\n",
    "import scipy.sparse as sp\n",
    "import networkx as nx"
   ]
  },
  {
   "cell_type": "code",
   "execution_count": 60,
   "metadata": {},
   "outputs": [],
   "source": [
    "def parse_index_file(filename):\n",
    "    \"\"\"Parse index file.\"\"\"\n",
    "    index = []\n",
    "    for line in open(filename):\n",
    "        index.append(int(line.strip()))\n",
    "    return index"
   ]
  },
  {
   "cell_type": "code",
   "execution_count": 61,
   "metadata": {},
   "outputs": [],
   "source": [
    "def parse_index_file(filename):\n",
    "    \"\"\"Parse index file.\"\"\"\n",
    "    index = []\n",
    "    for line in open(filename):\n",
    "        index.append(int(line.strip()))\n",
    "    return index\n",
    "def sample_mask(idx, l):\n",
    "    \"\"\"Create mask.\"\"\"\n",
    "    mask = np.zeros(l)\n",
    "    mask[idx] = 1\n",
    "    return np.array(mask, dtype=np.bool)"
   ]
  },
  {
   "cell_type": "code",
   "execution_count": 83,
   "metadata": {},
   "outputs": [],
   "source": [
    "def load_data(dataset_str):\n",
    "    \"\"\"\n",
    "    Loads input data from gcn/data directory\n",
    "    ind.dataset_str.x => the feature vectors of the training instances as scipy.sparse.csr.csr_matrix object;\n",
    "    ind.dataset_str.tx => the feature vectors of the test instances as scipy.sparse.csr.csr_matrix object;\n",
    "    ind.dataset_str.allx => the feature vectors of both labeled and unlabeled training instances\n",
    "        (a superset of ind.dataset_str.x) as scipy.sparse.csr.csr_matrix object;\n",
    "    ind.dataset_str.y => the one-hot labels of the labeled training instances as numpy.ndarray object;\n",
    "    ind.dataset_str.ty => the one-hot labels of the test instances as numpy.ndarray object;\n",
    "    ind.dataset_str.ally => the labels for instances in ind.dataset_str.allx as numpy.ndarray object;\n",
    "    ind.dataset_str.graph => a dict in the format {index: [index_of_neighbor_nodes]} as collections.defaultdict\n",
    "        object;\n",
    "    ind.dataset_str.test.index => the indices of test instances in graph, for the inductive setting as list object.\n",
    "    All objects above must be saved using python pickle module.\n",
    "    :param dataset_str: Dataset name\n",
    "    :return: All data input files loaded (as well the training/test data).\n",
    "    \"\"\"\n",
    "    names = ['x', 'y', 'tx', 'ty', 'allx', 'ally', 'graph']\n",
    "    objects = []\n",
    "    for i in range(len(names)):\n",
    "        print(i)\n",
    "        with open(f\"../data/{dataset_str}/{names[i]}\", 'rb') as f:\n",
    "            if sys.version_info > (3, 0):\n",
    "                objects.append(pkl.load(f, encoding='latin1'))\n",
    "            else:\n",
    "                objects.append(pkl.load(f))\n",
    "\n",
    "    x, y, tx, ty, allx, ally, graph = tuple(objects)\n",
    "    test_idx_reorder = parse_index_file(f\"../data/{dataset_str}/test.index\")\n",
    "    test_idx_range = np.sort(test_idx_reorder)\n",
    "\n",
    "    if dataset_str == 'linqs_citeseer_planetoid':\n",
    "        # Fix citeseer dataset (there are some isolated nodes in the graph)\n",
    "        # Find isolated nodes, add them as zero-vecs into the right position\n",
    "        test_idx_range_full = range(min(test_idx_reorder), max(test_idx_reorder)+1)\n",
    "        tx_extended = sp.lil_matrix((len(test_idx_range_full), x.shape[1]))\n",
    "        tx_extended[test_idx_range-min(test_idx_range), :] = tx\n",
    "        tx = tx_extended\n",
    "        ty_extended = np.zeros((len(test_idx_range_full), y.shape[1]))\n",
    "        ty_extended[test_idx_range-min(test_idx_range), :] = ty\n",
    "        ty = ty_extended\n",
    "\n",
    "    features = sp.vstack((allx, tx)).tolil()\n",
    "    features[test_idx_reorder, :] = features[test_idx_range, :]\n",
    "    adj = nx.adjacency_matrix(nx.from_dict_of_lists(graph))\n",
    "\n",
    "    labels = np.vstack((ally, ty))\n",
    "    labels[test_idx_reorder, :] = labels[test_idx_range, :]\n",
    "\n",
    "    idx_test = test_idx_range.tolist()\n",
    "    idx_train = range(len(y))\n",
    "    idx_val = range(len(y), len(y)+500)\n",
    "\n",
    "    train_mask = sample_mask(idx_train, labels.shape[0])\n",
    "    val_mask = sample_mask(idx_val, labels.shape[0])\n",
    "    test_mask = sample_mask(idx_test, labels.shape[0])\n",
    "\n",
    "    y_train = np.zeros(labels.shape)\n",
    "    y_val = np.zeros(labels.shape)\n",
    "    y_test = np.zeros(labels.shape)\n",
    "    y_train[train_mask, :] = labels[train_mask, :]\n",
    "    y_val[val_mask, :] = labels[val_mask, :]\n",
    "    y_test[test_mask, :] = labels[test_mask, :]\n",
    "    return adj, features, allx, ally, y_train, y_val, y_test, labels"
   ]
  },
  {
   "cell_type": "code",
   "execution_count": 84,
   "metadata": {},
   "outputs": [
    {
     "name": "stdout",
     "output_type": "stream",
     "text": [
      "0\n",
      "1\n",
      "2\n",
      "3\n",
      "4\n",
      "5\n",
      "6\n"
     ]
    }
   ],
   "source": [
    "dataset_str = 'linqs_citeseer_planetoid'\n",
    "adj, features, allx, ally, y_train, y_val, y_test, labels = load_data(dataset_str)"
   ]
  },
  {
   "cell_type": "code",
   "execution_count": 66,
   "metadata": {},
   "outputs": [],
   "source": [
    "import os\n",
    "data_path = 'linqs_cora_planetoid'\n",
    "x_path = os.path.abspath(os.path.join( '..', f'data/{data_path}/features.csv'))"
   ]
  },
  {
   "cell_type": "code",
   "execution_count": 68,
   "metadata": {},
   "outputs": [],
   "source": [
    "features = np.loadtxt(x_path, delimiter=',')"
   ]
  },
  {
   "cell_type": "code",
   "execution_count": 86,
   "metadata": {},
   "outputs": [
    {
     "data": {
      "text/plain": [
       "(3327, 6)"
      ]
     },
     "execution_count": 86,
     "metadata": {},
     "output_type": "execute_result"
    }
   ],
   "source": [
    "labels.shape"
   ]
  },
  {
   "cell_type": "code",
   "execution_count": 71,
   "metadata": {},
   "outputs": [],
   "source": [
    "# np.savetxt(f\"../data/{dataset_str}/features_raw.csv\",features.toarray(),delimiter=',')"
   ]
  },
  {
   "cell_type": "code",
   "execution_count": 73,
   "metadata": {},
   "outputs": [],
   "source": [
    "# with open(f\"../data/linqs_pubmed_planetoid/ind.pubmed.y\", 'rb') as f:\n",
    "#     y = pkl.load(f, encoding='latin1')"
   ]
  },
  {
   "cell_type": "code",
   "execution_count": 74,
   "metadata": {},
   "outputs": [],
   "source": [
    "# pkl.dump(y,open(f\"../data/linqs_pubmed_planetoid/y\", 'wb'))"
   ]
  },
  {
   "cell_type": "code",
   "execution_count": 75,
   "metadata": {},
   "outputs": [],
   "source": [
    "graph = adj"
   ]
  },
  {
   "cell_type": "code",
   "execution_count": 77,
   "metadata": {},
   "outputs": [],
   "source": [
    "# np.savetxt(f\"../data/{dataset_str}/graph_symmetric.csv\",np.vstack([graph.tocoo().row,graph.tocoo().col]).T,delimiter=',')"
   ]
  },
  {
   "cell_type": "code",
   "execution_count": 87,
   "metadata": {},
   "outputs": [],
   "source": [
    "true_labels = labels\n",
    "graph = adj\n",
    "labeled_indices = np.where(np.sum(y_train,axis=1))[0]\n",
    "unlabeled_indices = np.where(1-np.sum(y_train,axis=1))[0]\n",
    "validation_indices = np.where(np.sum(y_val,axis=1))[0]\n",
    "test_indices = np.where(np.sum(y_test,axis=1))[0]"
   ]
  },
  {
   "cell_type": "code",
   "execution_count": 88,
   "metadata": {},
   "outputs": [
    {
     "data": {
      "text/plain": [
       "array([3, 1, 2, ..., 3, 1, 5])"
      ]
     },
     "execution_count": 88,
     "metadata": {},
     "output_type": "execute_result"
    }
   ],
   "source": [
    "np.argmax(true_labels[unlabeled_indices],axis=1)"
   ]
  },
  {
   "cell_type": "code",
   "execution_count": 43,
   "metadata": {},
   "outputs": [
    {
     "data": {
      "text/plain": [
       "(2568, 140)"
      ]
     },
     "execution_count": 43,
     "metadata": {},
     "output_type": "execute_result"
    }
   ],
   "source": [
    "len(unlabeled_indices),len(labeled_indices)"
   ]
  },
  {
   "cell_type": "code",
   "execution_count": 44,
   "metadata": {},
   "outputs": [],
   "source": [
    "seed = 1\n",
    "np.random.seed(seed)\n",
    "num_nodes, num_classes = true_labels.shape\n",
    "num_unlabeled = unlabeled_indices.shape[0]"
   ]
  },
  {
   "cell_type": "code",
   "execution_count": 45,
   "metadata": {},
   "outputs": [],
   "source": [
    "# from each class, sample at least one index for labeled\n",
    "labeled_indices_from_class = []\n",
    "for class_id in range(num_classes):\n",
    "    labeled_indices_from_class.append(\n",
    "        np.random.choice(np.where(true_labels[:, class_id])[0]))\n",
    "\n",
    "# sample indices to unlabel\n",
    "indices_left = [\n",
    "    i for i in range(num_nodes) if i not in labeled_indices_from_class\n",
    "]\n",
    "unlabeled_indices = np.random.choice(\n",
    "    indices_left, num_unlabeled, replace=False)\n",
    "unlabeled_indices = np.array(sorted(unlabeled_indices))\n",
    "labeled_indices = np.delete(np.arange(num_nodes), unlabeled_indices)"
   ]
  },
  {
   "cell_type": "code",
   "execution_count": 52,
   "metadata": {},
   "outputs": [],
   "source": [
    "labeled_indices = np.where(np.sum(y_train,axis=1))[0]\n",
    "unlabeled_indices = np.where(1-np.sum(y_train,axis=1))[0]\n",
    "test_val_indices = np.random.choice(unlabeled_indices,len(validation_indices)+len(test_indices))\n",
    "validation_indices = test_val_indices[:len(validation_indices)]\n",
    "test_indices = test_val_indices[len(validation_indices):]"
   ]
  },
  {
   "cell_type": "code",
   "execution_count": 1,
   "metadata": {},
   "outputs": [
    {
     "name": "stderr",
     "output_type": "stream",
     "text": [
      "/Users/kojin/anaconda/envs/ml/lib/python3.6/site-packages/h5py/__init__.py:36: FutureWarning: Conversion of the second argument of issubdtype from `float` to `np.floating` is deprecated. In future, it will be treated as `np.float64 == np.dtype(float).type`.\n",
      "  from ._conv import register_converters as _register_converters\n"
     ]
    }
   ],
   "source": [
    "from __future__ import print_function\n",
    "from pathlib import Path\n",
    "from random import shuffle\n",
    "import random\n",
    "\n",
    "import argparse\n",
    "import copy\n",
    "import numpy as np\n",
    "import sys\n",
    "import tensorflow as tf\n",
    "import scipy.sparse as sp\n",
    "import sys\n",
    "\n",
    "import sys\n",
    "sys.path.append(\"..\") \n",
    "from deeplp.models.deeplp_att import DeepLP_ATT\n",
    "from deeplp.models.deeplp_edge import DeepLP_Edge\n",
    "from deeplp.models.deeplp_wrbf import DeepLP_WRBF\n",
    "from deeplp.models.lp import LP\n",
    "from deeplp.utils import (calc_masks, create_seed_features, load_data, load_and_prepare_planetoid_data,\n",
    "                          num_layers_dict, prepare_data, random_unlabel)\n"
   ]
  },
  {
   "cell_type": "code",
   "execution_count": 2,
   "metadata": {},
   "outputs": [
    {
     "name": "stdout",
     "output_type": "stream",
     "text": [
      "0\n",
      "1\n",
      "2\n",
      "3\n",
      "4\n",
      "5\n",
      "6\n",
      "fixed seed\n"
     ]
    }
   ],
   "source": [
    "true_labels, features, raw_features, graph, labeled_indices, unlabeled_indices, target_indices, gcc_indices, nogcc_indices = load_and_prepare_planetoid_data('linqs_citeseer_planetoid')"
   ]
  },
  {
   "cell_type": "code",
   "execution_count": 8,
   "metadata": {},
   "outputs": [
    {
     "data": {
      "text/plain": [
       "array([          nan, 7146.26703733,  126.08768604, 4735.3328956 ,\n",
       "       4622.26686951, 4392.64124216, 2527.26719364, 2527.26719364,\n",
       "        554.57142857, 2494.        ,  804.        , 6152.07685339,\n",
       "       6152.07685339, 6152.07685339,  710.523945  , 7664.28696897])"
      ]
     },
     "execution_count": 8,
     "metadata": {},
     "output_type": "execute_result"
    }
   ],
   "source": [
    "np.sum(features,axis=0)"
   ]
  },
  {
   "cell_type": "code",
   "execution_count": 10,
   "metadata": {},
   "outputs": [],
   "source": [
    "G = nx.from_scipy_sparse_matrix(graph)"
   ]
  },
  {
   "cell_type": "code",
   "execution_count": 11,
   "metadata": {},
   "outputs": [
    {
     "data": {
      "text/plain": [
       "<networkx.classes.graph.Graph at 0x12bb7d898>"
      ]
     },
     "execution_count": 11,
     "metadata": {},
     "output_type": "execute_result"
    }
   ],
   "source": [
    "import networkx as nx\n",
    "max(nx.connected_component_subgraphs(G), key=len)"
   ]
  },
  {
   "cell_type": "code",
   "execution_count": 15,
   "metadata": {},
   "outputs": [],
   "source": [
    "gcc_indices = set(max(nx.connected_component_subgraphs(G), key=len).nodes())"
   ]
  },
  {
   "cell_type": "code",
   "execution_count": 17,
   "metadata": {},
   "outputs": [],
   "source": [
    "num_nodes, num_classes = true_labels.shape"
   ]
  },
  {
   "cell_type": "code",
   "execution_count": 21,
   "metadata": {},
   "outputs": [],
   "source": []
  },
  {
   "cell_type": "code",
   "execution_count": 4,
   "metadata": {},
   "outputs": [],
   "source": [
    "labels, is_labeled = calc_masks(true_labels, labeled_indices,\n",
    "                                unlabeled_indices)"
   ]
  },
  {
   "cell_type": "code",
   "execution_count": 5,
   "metadata": {},
   "outputs": [
    {
     "ename": "TypeError",
     "evalue": "only integer scalar arrays can be converted to a scalar index",
     "output_type": "error",
     "traceback": [
      "\u001b[0;31m---------------------------------------------------------------------------\u001b[0m",
      "\u001b[0;31mTypeError\u001b[0m                                 Traceback (most recent call last)",
      "\u001b[0;32m<ipython-input-5-9831e167cad3>\u001b[0m in \u001b[0;36m<module>\u001b[0;34m()\u001b[0m\n\u001b[0;32m----> 1\u001b[0;31m \u001b[0mseed_features\u001b[0m \u001b[0;34m=\u001b[0m \u001b[0mcreate_seed_features\u001b[0m\u001b[0;34m(\u001b[0m\u001b[0mgraph\u001b[0m\u001b[0;34m,\u001b[0m \u001b[0mlabeled_indices\u001b[0m\u001b[0;34m,\u001b[0m \u001b[0mtrue_labels\u001b[0m\u001b[0;34m)\u001b[0m\u001b[0;34m\u001b[0m\u001b[0m\n\u001b[0m",
      "\u001b[0;32m~/projects/deep_label_propagation_2/deeplp/utils.py\u001b[0m in \u001b[0;36mcreate_seed_features\u001b[0;34m(graph, labeled_indices, true_labels)\u001b[0m\n\u001b[1;32m    344\u001b[0m         \u001b[0mlabel_seed_to_node_lengths\u001b[0m \u001b[0;34m=\u001b[0m \u001b[0mseed_to_node_lengths\u001b[0m\u001b[0;34m[\u001b[0m\u001b[0mindices\u001b[0m\u001b[0;34m]\u001b[0m\u001b[0;34m\u001b[0m\u001b[0m\n\u001b[1;32m    345\u001b[0m         label_min_len_to_seed = np.min(\n\u001b[0;32m--> 346\u001b[0;31m             label_seed_to_node_lengths, axis=0)[sources]\n\u001b[0m\u001b[1;32m    347\u001b[0m         label_mean_len_to_seed = np.mean(\n\u001b[1;32m    348\u001b[0m             label_seed_to_node_lengths, axis=0)[sources]\n",
      "\u001b[0;31mTypeError\u001b[0m: only integer scalar arrays can be converted to a scalar index"
     ]
    }
   ],
   "source": [
    "seed_features = create_seed_features(graph, labeled_indices, true_labels)"
   ]
  },
  {
   "cell_type": "code",
   "execution_count": 32,
   "metadata": {},
   "outputs": [
    {
     "data": {
      "text/plain": [
       "0.0"
      ]
     },
     "execution_count": 32,
     "metadata": {},
     "output_type": "execute_result"
    }
   ],
   "source": [
    "1/np.inf"
   ]
  },
  {
   "cell_type": "code",
   "execution_count": 33,
   "metadata": {},
   "outputs": [],
   "source": [
    "    import networkx as nx\n",
    "    U = nx.from_scipy_sparse_matrix(graph)  # undirected\n",
    "    B = U.to_directed()\n",
    "    edges = np.array(B.edges())\n",
    "    sources, sinks = edges[:, 0], edges[:, 1]\n",
    "    subU_nodes = list(max(nx.connected_component_subgraphs(U), key=len).nodes())\n",
    "    subU = U.subgraph(subU_nodes)\n",
    "    in_subU = (np.in1d(sources,list(subU_nodes))) & (np.in1d(sinks,list(subU_nodes)))\n",
    "    num_connected = len(subU_nodes)\n",
    "\n",
    "    # calculate shortest path length to each seed node\n",
    "    seed_to_node_lengths = []  # num_labeled * num_nodes matrix\n",
    "    for i in labeled_indices:\n",
    "        shortest_paths_seed = nx.shortest_path_length(B, source=int(i))\n",
    "        path_lengths = [i[1] for i in sorted(shortest_paths_seed.items())]\n",
    "        if len(path_lengths) != num_connected:\n",
    "            path_lengths = list(np.repeat(np.inf,num_connected))\n",
    "        seed_to_node_lengths.append(path_lengths)\n",
    "    seed_to_node_lengths = np.array(seed_to_node_lengths)\n",
    "\n",
    "    # create label => list of seed indices dict\n",
    "    labels_for_seeds = np.argmax(true_labels[labeled_indices], axis=1)\n",
    "    labels_for_seeds_dict = {}\n",
    "    for i, label in enumerate(labels_for_seeds):\n",
    "        if label in labels_for_seeds_dict:\n",
    "            labels_for_seeds_dict[label].append(i)\n",
    "        else:\n",
    "            labels_for_seeds_dict[label] = [i]\n",
    "\n",
    "    # for each label, find the closest (or average) distance to\n",
    "    # seed with that label\n",
    "    seed_features = []"
   ]
  },
  {
   "cell_type": "code",
   "execution_count": 42,
   "metadata": {},
   "outputs": [],
   "source": [
    "inv_seed_to_node_lengths = 1 / (seed_to_node_lengths + 1)"
   ]
  },
  {
   "cell_type": "code",
   "execution_count": 43,
   "metadata": {},
   "outputs": [],
   "source": [
    "for label in labels_for_seeds_dict:\n",
    "    indices = labels_for_seeds_dict[label]\n",
    "    label_inv_seed_to_node_lengths = inv_seed_to_node_lengths[indices]\n",
    "    label_max_len_to_seed = np.zeros(len(B.nodes()))\n",
    "    label_max_len_to_seed[subU_nodes] = np.max(\n",
    "        label_inv_seed_to_node_lengths, axis=0)\n",
    "    label_max_len_to_seed = label_max_len_to_seed[sources]\n",
    "    \n",
    "    \n",
    "    label_mean_len_to_seed = np.zeros(len(B.nodes()))\n",
    "    label_mean_len_to_seed[subU_nodes] = np.mean(\n",
    "        label_inv_seed_to_node_lengths, axis=0)\n",
    "    label_mean_len_to_seed = label_mean_len_to_seed[sources]\n",
    "    \n",
    "    seed_features.append(label_max_len_to_seed)\n",
    "    seed_features.append(label_mean_len_to_seed)"
   ]
  },
  {
   "cell_type": "code",
   "execution_count": 45,
   "metadata": {},
   "outputs": [
    {
     "data": {
      "text/plain": [
       "(array([0.16666667, 0.16666667, 0.16666667, ..., 0.16666667, 0.16666667,\n",
       "        0.16666667]),\n",
       " array([0.07113095, 0.07113095, 0.07113095, ..., 0.06865079, 0.06865079,\n",
       "        0.06865079]))"
      ]
     },
     "execution_count": 45,
     "metadata": {},
     "output_type": "execute_result"
    }
   ],
   "source": [
    "label_max_len_to_seed, label_mean_len_to_seed"
   ]
  },
  {
   "cell_type": "code",
   "execution_count": 46,
   "metadata": {},
   "outputs": [
    {
     "data": {
      "text/plain": [
       "array([0.16666667, 0.16666667, 0.16666667, 0.14285714, 0.14285714,\n",
       "       0.14285714, 0.16666667, 0.16666667, 0.16666667, 0.16666667,\n",
       "       0.16666667, 0.        , 0.16666667, 0.16666667, 0.16666667,\n",
       "       0.16666667, 0.16666667, 0.14285714, 0.14285714, 0.14285714,\n",
       "       0.25      , 0.25      , 0.25      , 0.25      , 0.        ,\n",
       "       0.14285714, 0.14285714, 0.14285714, 0.14285714, 0.14285714,\n",
       "       0.2       , 0.2       , 0.2       , 0.2       , 0.        ,\n",
       "       0.        , 0.        , 0.        , 0.2       , 0.2       ,\n",
       "       0.16666667, 0.16666667, 0.16666667, 0.16666667, 0.16666667,\n",
       "       0.2       , 0.2       , 0.2       , 0.2       , 0.16666667,\n",
       "       0.16666667, 0.16666667, 0.16666667, 0.16666667, 0.16666667,\n",
       "       0.16666667, 0.16666667, 0.16666667, 0.2       , 0.2       ,\n",
       "       0.2       , 0.2       , 0.2       , 0.125     , 0.25      ,\n",
       "       0.25      , 0.25      , 0.25      , 0.25      , 0.25      ,\n",
       "       0.25      , 0.16666667, 0.16666667, 0.16666667, 0.16666667,\n",
       "       0.16666667, 0.        , 0.2       , 0.2       , 0.2       ,\n",
       "       0.2       , 0.2       , 0.2       , 0.2       , 0.2       ,\n",
       "       0.2       , 0.2       , 0.2       , 0.        , 0.        ,\n",
       "       0.        , 0.        , 0.        , 0.16666667, 0.16666667,\n",
       "       0.16666667, 0.16666667, 0.14285714, 0.14285714, 0.14285714])"
      ]
     },
     "execution_count": 46,
     "metadata": {},
     "output_type": "execute_result"
    }
   ],
   "source": [
    "label_max_len_to_seed[:100]"
   ]
  },
  {
   "cell_type": "code",
   "execution_count": 34,
   "metadata": {},
   "outputs": [
    {
     "data": {
      "text/plain": [
       "NodeView((1, 5, 8, 10, 12, 13, 16, 17, 18, 19, 20, 22, 23, 24, 25, 26, 27, 28, 29, 30, 31, 32, 33, 34, 38, 39, 40, 42, 43, 44, 48, 49, 50, 51, 52, 53, 54, 55, 56, 57, 59, 61, 62, 65, 66, 69, 70, 72, 75, 76, 77, 78, 79, 80, 81, 83, 84, 87, 88, 90, 91, 92, 93, 95, 96, 98, 99, 100, 101, 103, 104, 105, 106, 107, 110, 113, 114, 115, 118, 119, 122, 123, 124, 126, 128, 130, 131, 132, 134, 135, 136, 137, 138, 142, 144, 147, 148, 150, 151, 152, 153, 154, 155, 156, 157, 158, 159, 162, 167, 168, 169, 170, 172, 173, 177, 178, 180, 181, 184, 186, 188, 189, 190, 191, 194, 195, 197, 198, 200, 201, 203, 204, 205, 206, 208, 211, 212, 213, 214, 215, 216, 217, 218, 219, 220, 221, 222, 224, 226, 227, 228, 229, 230, 231, 232, 234, 236, 237, 240, 241, 242, 243, 244, 246, 247, 249, 250, 252, 253, 254, 255, 258, 259, 260, 263, 265, 266, 267, 268, 269, 272, 273, 274, 280, 285, 286, 287, 289, 292, 293, 294, 298, 300, 302, 303, 304, 307, 308, 311, 312, 313, 314, 316, 317, 318, 319, 321, 322, 325, 330, 331, 332, 333, 335, 336, 338, 339, 340, 342, 346, 347, 350, 351, 352, 353, 354, 356, 357, 359, 361, 362, 363, 365, 370, 371, 372, 373, 374, 377, 378, 379, 381, 383, 386, 388, 390, 392, 393, 394, 395, 396, 397, 398, 401, 402, 404, 405, 406, 407, 408, 409, 410, 411, 412, 413, 414, 416, 417, 418, 419, 421, 422, 427, 428, 429, 430, 433, 434, 435, 438, 439, 440, 441, 442, 444, 445, 446, 447, 449, 450, 451, 453, 454, 455, 458, 460, 462, 464, 465, 466, 468, 469, 471, 472, 473, 476, 478, 482, 483, 484, 485, 486, 487, 489, 491, 492, 493, 494, 495, 498, 499, 500, 501, 502, 503, 504, 505, 506, 508, 509, 510, 512, 515, 516, 517, 518, 519, 520, 521, 525, 526, 527, 528, 529, 530, 531, 532, 533, 535, 536, 537, 540, 541, 542, 543, 544, 545, 547, 548, 549, 550, 551, 552, 553, 554, 555, 556, 557, 558, 559, 561, 563, 564, 565, 566, 567, 569, 573, 575, 576, 577, 578, 579, 582, 584, 585, 586, 587, 588, 590, 591, 594, 595, 597, 598, 599, 600, 603, 604, 605, 607, 609, 610, 611, 613, 615, 616, 618, 620, 622, 624, 627, 629, 630, 631, 633, 634, 637, 638, 641, 642, 644, 647, 648, 649, 650, 651, 653, 654, 656, 661, 664, 668, 669, 670, 672, 673, 674, 675, 676, 677, 678, 680, 681, 682, 683, 684, 686, 689, 690, 691, 692, 693, 695, 698, 700, 702, 703, 705, 706, 707, 708, 709, 711, 713, 714, 715, 716, 717, 719, 721, 722, 723, 724, 725, 726, 727, 728, 729, 733, 734, 736, 737, 743, 744, 745, 746, 747, 748, 749, 751, 754, 755, 761, 764, 765, 768, 770, 771, 772, 773, 774, 775, 776, 777, 778, 779, 780, 781, 783, 784, 790, 791, 792, 794, 796, 797, 798, 799, 800, 802, 803, 805, 807, 808, 809, 811, 812, 813, 814, 815, 816, 818, 819, 822, 824, 825, 826, 827, 828, 830, 833, 835, 836, 837, 839, 840, 843, 846, 847, 850, 851, 853, 854, 856, 859, 860, 863, 864, 865, 871, 872, 874, 875, 876, 877, 878, 879, 880, 881, 882, 884, 885, 886, 887, 889, 894, 895, 900, 904, 905, 906, 908, 911, 912, 914, 915, 918, 920, 921, 922, 923, 924, 927, 928, 929, 930, 931, 932, 935, 936, 937, 938, 940, 941, 942, 946, 949, 950, 953, 954, 955, 956, 960, 962, 964, 965, 966, 968, 969, 971, 972, 974, 975, 976, 978, 979, 981, 982, 985, 986, 988, 989, 990, 991, 992, 993, 994, 997, 998, 999, 1000, 1001, 1002, 1004, 1006, 1008, 1009, 1010, 1011, 1012, 1013, 1015, 1017, 1019, 1020, 1021, 1022, 1023, 1025, 1026, 1027, 1028, 1030, 1031, 1033, 1034, 1035, 1038, 1039, 1041, 1042, 1043, 1044, 1046, 1048, 1049, 1050, 1051, 1052, 1054, 1058, 1062, 1064, 1068, 1070, 1071, 1072, 1075, 1076, 1077, 1078, 1080, 1083, 1084, 1085, 1087, 1088, 1089, 1091, 1093, 1094, 1096, 1097, 1101, 1102, 1103, 1105, 1107, 1111, 1112, 1115, 1116, 1117, 1119, 1120, 1122, 1123, 1125, 1128, 1130, 1131, 1132, 1135, 1136, 1138, 1140, 1141, 1142, 1143, 1145, 1146, 1147, 1150, 1151, 1152, 1153, 1155, 1156, 1157, 1161, 1162, 1165, 1167, 1170, 1172, 1176, 1178, 1180, 1183, 1184, 1185, 1186, 1188, 1190, 1191, 1193, 1195, 1196, 1197, 1198, 1200, 1202, 1203, 1205, 1206, 1207, 1210, 1211, 1212, 1214, 1215, 1217, 1218, 1219, 1220, 1221, 1222, 1223, 1225, 1227, 1230, 1232, 1233, 1234, 1235, 1238, 1239, 1241, 1242, 1244, 1246, 1247, 1251, 1252, 1253, 1255, 1256, 1257, 1259, 1260, 1261, 1262, 1263, 1264, 1265, 1271, 1272, 1273, 1275, 1278, 1279, 1280, 1281, 1286, 1287, 1288, 1290, 1292, 1293, 1294, 1295, 1296, 1300, 1301, 1302, 1303, 1307, 1308, 1309, 1310, 1311, 1313, 1315, 1318, 1319, 1320, 1322, 1324, 1325, 1326, 1328, 1329, 1330, 1331, 1333, 1334, 1335, 1338, 1340, 1341, 1342, 1343, 1346, 1348, 1349, 1350, 1351, 1352, 1353, 1354, 1355, 1356, 1357, 1358, 1359, 1362, 1363, 1364, 1366, 1369, 1372, 1373, 1376, 1379, 1381, 1383, 1384, 1385, 1386, 1387, 1392, 1393, 1395, 1398, 1399, 1400, 1401, 1402, 1406, 1407, 1408, 1409, 1410, 1411, 1412, 1414, 1415, 1417, 1418, 1419, 1421, 1422, 1423, 1424, 1426, 1427, 1429, 1430, 1434, 1435, 1437, 1439, 1440, 1441, 1443, 1444, 1445, 1446, 1447, 1448, 1449, 1451, 1453, 1455, 1457, 1460, 1461, 1462, 1463, 1464, 1466, 1467, 1468, 1469, 1470, 1471, 1472, 1473, 1474, 1476, 1477, 1478, 1480, 1482, 1483, 1484, 1485, 1486, 1490, 1492, 1493, 1494, 1498, 1510, 1514, 1515, 1516, 1517, 1521, 1522, 1525, 1527, 1529, 1531, 1532, 1533, 1534, 1536, 1538, 1540, 1542, 1543, 1544, 1545, 1546, 1551, 1557, 1558, 1560, 1561, 1562, 1563, 1565, 1566, 1567, 1568, 1569, 1570, 1571, 1572, 1573, 1574, 1575, 1576, 1577, 1578, 1580, 1581, 1582, 1583, 1584, 1585, 1587, 1589, 1590, 1591, 1599, 1600, 1603, 1605, 1606, 1607, 1609, 1610, 1613, 1615, 1617, 1618, 1619, 1620, 1621, 1622, 1625, 1629, 1630, 1633, 1634, 1635, 1637, 1640, 1641, 1642, 1644, 1647, 1648, 1651, 1652, 1654, 1655, 1656, 1657, 1658, 1659, 1660, 1663, 1665, 1666, 1667, 1668, 1670, 1671, 1672, 1676, 1677, 1678, 1682, 1683, 1684, 1685, 1686, 1687, 1691, 1693, 1694, 1696, 1697, 1698, 1699, 1701, 1702, 1703, 1704, 1705, 1708, 1709, 1710, 1711, 1715, 1717, 1718, 1719, 1721, 1723, 1724, 1725, 1726, 1727, 1728, 1729, 1731, 1732, 1733, 1734, 1736, 1737, 1738, 1740, 1742, 1743, 1744, 1746, 1747, 1749, 1751, 1753, 1754, 1755, 1757, 1758, 1759, 1760, 1761, 1762, 1764, 1768, 1769, 1770, 1771, 1772, 1774, 1777, 1778, 1780, 1782, 1785, 1787, 1789, 1791, 1792, 1794, 1795, 1796, 1797, 1799, 1802, 1804, 1808, 1809, 1811, 1812, 1813, 1817, 1818, 1821, 1822, 1823, 1824, 1825, 1826, 1829, 1831, 1832, 1834, 1835, 1836, 1837, 1838, 1841, 1842, 1843, 1844, 1845, 1846, 1847, 1848, 1849, 1851, 1853, 1854, 1855, 1856, 1861, 1863, 1864, 1865, 1867, 1868, 1871, 1872, 1874, 1875, 1877, 1879, 1880, 1882, 1883, 1885, 1887, 1890, 1891, 1894, 1895, 1896, 1901, 1902, 1903, 1904, 1907, 1910, 1912, 1915, 1916, 1917, 1918, 1919, 1920, 1921, 1922, 1923, 1924, 1925, 1927, 1932, 1939, 1940, 1942, 1943, 1944, 1945, 1946, 1948, 1953, 1956, 1958, 1959, 1961, 1964, 1965, 1966, 1967, 1968, 1970, 1971, 1973, 1976, 1980, 1981, 1983, 1985, 1986, 1987, 1989, 1990, 1992, 1995, 1996, 1997, 1999, 2000, 2001, 2002, 2005, 2007, 2011, 2012, 2013, 2017, 2020, 2021, 2022, 2023, 2024, 2025, 2027, 2028, 2030, 2032, 2033, 2035, 2039, 2040, 2041, 2043, 2045, 2047, 2048, 2050, 2052, 2053, 2054, 2055, 2057, 2058, 2059, 2062, 2063, 2064, 2065, 2066, 2067, 2068, 2070, 2072, 2073, 2074, 2076, 2080, 2082, 2083, 2085, 2088, 2089, 2090, 2091, 2095, 2097, 2100, 2102, 2103, 2104, 2105, 2106, 2107, 2108, 2109, 2110, 2112, 2113, 2114, 2115, 2116, 2119, 2120, 2121, 2122, 2124, 2125, 2128, 2130, 2132, 2134, 2136, 2139, 2140, 2141, 2142, 2144, 2147, 2148, 2149, 2150, 2151, 2152, 2153, 2154, 2156, 2157, 2158, 2159, 2160, 2161, 2162, 2163, 2165, 2166, 2169, 2170, 2174, 2177, 2179, 2180, 2181, 2182, 2183, 2184, 2185, 2186, 2187, 2189, 2196, 2199, 2200, 2202, 2203, 2204, 2205, 2206, 2208, 2209, 2210, 2211, 2212, 2215, 2217, 2218, 2219, 2220, 2222, 2224, 2225, 2226, 2227, 2228, 2230, 2232, 2233, 2234, 2235, 2237, 2239, 2240, 2242, 2243, 2244, 2245, 2247, 2249, 2250, 2252, 2253, 2254, 2255, 2257, 2258, 2259, 2261, 2264, 2266, 2269, 2273, 2274, 2275, 2276, 2277, 2278, 2281, 2282, 2283, 2284, 2288, 2291, 2292, 2293, 2295, 2296, 2297, 2298, 2299, 2301, 2302, 2304, 2305, 2306, 2308, 2309, 2311, 2312, 2313, 2314, 2315, 2316, 2319, 2320, 2321, 2322, 2323, 2324, 2327, 2328, 2329, 2330, 2331, 2332, 2333, 2334, 2335, 2338, 2339, 2340, 2341, 2342, 2343, 2345, 2346, 2347, 2350, 2351, 2353, 2354, 2355, 2356, 2357, 2358, 2360, 2361, 2362, 2363, 2364, 2366, 2367, 2368, 2369, 2370, 2371, 2372, 2373, 2374, 2375, 2377, 2378, 2379, 2380, 2383, 2387, 2388, 2389, 2390, 2391, 2394, 2395, 2396, 2397, 2398, 2399, 2400, 2401, 2402, 2404, 2405, 2410, 2412, 2413, 2414, 2415, 2416, 2417, 2418, 2419, 2420, 2421, 2422, 2423, 2424, 2425, 2426, 2427, 2428, 2429, 2431, 2433, 2434, 2435, 2438, 2439, 2440, 2441, 2442, 2443, 2444, 2445, 2447, 2448, 2449, 2450, 2451, 2452, 2453, 2455, 2458, 2459, 2460, 2461, 2462, 2463, 2464, 2466, 2467, 2472, 2473, 2474, 2475, 2476, 2477, 2478, 2479, 2480, 2481, 2483, 2484, 2485, 2486, 2487, 2488, 2489, 2490, 2491, 2492, 2493, 2494, 2495, 2496, 2497, 2498, 2499, 2501, 2505, 2506, 2507, 2509, 2510, 2511, 2512, 2515, 2519, 2520, 2522, 2523, 2524, 2525, 2527, 2528, 2529, 2530, 2531, 2534, 2535, 2536, 2537, 2538, 2541, 2542, 2545, 2546, 2547, 2548, 2549, 2550, 2551, 2552, 2553, 2554, 2555, 2556, 2557, 2558, 2559, 2560, 2561, 2562, 2564, 2565, 2567, 2568, 2570, 2571, 2573, 2574, 2575, 2577, 2578, 2579, 2580, 2581, 2583, 2584, 2585, 2586, 2587, 2588, 2589, 2590, 2592, 2594, 2595, 2596, 2597, 2598, 2599, 2601, 2602, 2603, 2604, 2605, 2606, 2607, 2608, 2609, 2610, 2611, 2612, 2613, 2614, 2615, 2619, 2620, 2621, 2622, 2623, 2624, 2625, 2626, 2627, 2628, 2629, 2630, 2631, 2632, 2633, 2634, 2635, 2636, 2637, 2638, 2639, 2640, 2641, 2642, 2643, 2644, 2645, 2646, 2647, 2648, 2649, 2650, 2651, 2652, 2654, 2655, 2657, 2661, 2662, 2663, 2664, 2665, 2666, 2667, 2668, 2669, 2670, 2671, 2672, 2673, 2674, 2675, 2676, 2677, 2678, 2680, 2681, 2682, 2683, 2684, 2685, 2686, 2687, 2690, 2691, 2692, 2698, 2702, 2703, 2704, 2705, 2706, 2707, 2708, 2709, 2710, 2711, 2712, 2713, 2714, 2715, 2717, 2718, 2719, 2720, 2721, 2726, 2727, 2728, 2729, 2730, 2731, 2732, 2733, 2734, 2736, 2737, 2738, 2739, 2740, 2741, 2745, 2746, 2747, 2748, 2749, 2752, 2759, 2761, 2762, 2763, 2764, 2765, 2766, 2767, 2768, 2769, 2770, 2771, 2772, 2773, 2774, 2775, 2776, 2779, 2780, 2781, 2782, 2783, 2784, 2785, 2786, 2789, 2790, 2791, 2792, 2797, 2799, 2803, 2811, 2812, 2814, 2815, 2816, 2817, 2819, 2820, 2821, 2822, 2823, 2824, 2825, 2826, 2827, 2828, 2829, 2830, 2831, 2835, 2836, 2837, 2838, 2839, 2840, 2842, 2843, 2844, 2845, 2846, 2848, 2854, 2855, 2857, 2859, 2860, 2861, 2862, 2863, 2864, 2866, 2867, 2868, 2869, 2870, 2874, 2875, 2878, 2880, 2882, 2883, 2884, 2886, 2887, 2891, 2894, 2895, 2896, 2897, 2898, 2899, 2900, 2901, 2902, 2903, 2906, 2909, 2910, 2911, 2912, 2913, 2918, 2919, 2920, 2921, 2923, 2924, 2925, 2926, 2927, 2928, 2930, 2931, 2932, 2933, 2939, 2940, 2942, 2943, 2944, 2948, 2949, 2950, 2951, 2952, 2953, 2954, 2955, 2956, 2957, 2959, 2963, 2964, 2966, 2967, 2968, 2971, 2973, 2976, 2977, 2978, 2979, 2980, 2981, 2984, 2991, 2993, 2994, 2999, 3000, 3002, 3006, 3007, 3009, 3010, 3011, 3012, 3013, 3014, 3017, 3018, 3019, 3020, 3022, 3024, 3025, 3026, 3027, 3028, 3029, 3030, 3034, 3039, 3042, 3045, 3046, 3047, 3048, 3049, 3050, 3051, 3052, 3053, 3054, 3060, 3062, 3066, 3067, 3068, 3069, 3071, 3072, 3073, 3074, 3076, 3078, 3079, 3080, 3081, 3083, 3084, 3086, 3087, 3089, 3093, 3099, 3102, 3103, 3106, 3107, 3108, 3109, 3110, 3114, 3117, 3118, 3119, 3120, 3125, 3128, 3129, 3132, 3133, 3134, 3138, 3139, 3142, 3144, 3145, 3146, 3147, 3148, 3149, 3150, 3151, 3152, 3153, 3156, 3157, 3159, 3160, 3161, 3162, 3164, 3167, 3168, 3174, 3184, 3186, 3187, 3193, 3194, 3195, 3196, 3197, 3198, 3199, 3202, 3206, 3207, 3209, 3210, 3212, 3213, 3215, 3216, 3217, 3218, 3220, 3221, 3223, 3224, 3227, 3228, 3231, 3232, 3233, 3234, 3235, 3236, 3242, 3244, 3246, 3247, 3248, 3249, 3251, 3256, 3257, 3261, 3263, 3265, 3266, 3267, 3269, 3270, 3271, 3272, 3274, 3275, 3276, 3277, 3281, 3282, 3283, 3284, 3286, 3287, 3288, 3292, 3293, 3294, 3296, 3298, 3299, 3300, 3304, 3305, 3306, 3308, 3311, 3312, 3314, 3317, 3318, 3324, 3326))"
      ]
     },
     "execution_count": 34,
     "metadata": {},
     "output_type": "execute_result"
    }
   ],
   "source": [
    "list(max(nx.connected_component_subgraphs(U), key=len).nodes())"
   ]
  },
  {
   "cell_type": "code",
   "execution_count": null,
   "metadata": {},
   "outputs": [],
   "source": []
  }
 ],
 "metadata": {
  "kernelspec": {
   "display_name": "ml",
   "language": "python",
   "name": "ml"
  },
  "language_info": {
   "codemirror_mode": {
    "name": "ipython",
    "version": 3
   },
   "file_extension": ".py",
   "mimetype": "text/x-python",
   "name": "python",
   "nbconvert_exporter": "python",
   "pygments_lexer": "ipython3",
   "version": "3.6.3"
  }
 },
 "nbformat": 4,
 "nbformat_minor": 2
}

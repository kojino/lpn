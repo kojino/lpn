{
 "cells": [
  {
   "cell_type": "code",
   "execution_count": 3,
   "metadata": {},
   "outputs": [],
   "source": [
    "from operator import itemgetter "
   ]
  },
  {
   "cell_type": "code",
   "execution_count": 4,
   "metadata": {},
   "outputs": [],
   "source": [
    "lines = tuple(open('../summary2/res.txt', 'r'))"
   ]
  },
  {
   "cell_type": "code",
   "execution_count": 5,
   "metadata": {},
   "outputs": [],
   "source": [
    "ress = []\n",
    "for i in range(int(len(lines)/3)):\n",
    "    a = lines[3*i].split(\"_\")\n",
    "    b = lines[3*i+1].split(\",\")\n",
    "    \n",
    "    res = list(itemgetter(*[3,6,7,8])(a)) + b\n",
    "    res_ = []\n",
    "    for el in res:\n",
    "        el = el.replace('\\n','')\n",
    "        try:\n",
    "            res_.append(float(el))\n",
    "        except:\n",
    "            res_.append(el)\n",
    "    ress.append(res_)\n",
    "    "
   ]
  },
  {
   "cell_type": "code",
   "execution_count": 6,
   "metadata": {},
   "outputs": [
    {
     "data": {
      "text/plain": [
       "['citeseer',\n",
       " 'random',\n",
       " -10.0,\n",
       " 0.0,\n",
       " 0.0,\n",
       " 0.647958,\n",
       " 0.196578,\n",
       " 2.780609,\n",
       " 2.817301,\n",
       " 0.15533,\n",
       " 0.64486,\n",
       " 0.704212,\n",
       " 0.549356]"
      ]
     },
     "execution_count": 6,
     "metadata": {},
     "output_type": "execute_result"
    }
   ],
   "source": [
    "ress[0]"
   ]
  },
  {
   "cell_type": "code",
   "execution_count": 8,
   "metadata": {},
   "outputs": [],
   "source": [
    "import pandas as pd\n",
    "df = pd.DataFrame(ress, columns=['data','setting','lamda','split','crossval','acc','l_o_loss','a','b','obj','targetacc','gccacc','nogccacc'])\n"
   ]
  },
  {
   "cell_type": "code",
   "execution_count": 10,
   "metadata": {},
   "outputs": [],
   "source": [
    "idx = df.groupby(['data','setting','split'])['acc'].transform(max) == df['acc']"
   ]
  },
  {
   "cell_type": "code",
   "execution_count": 11,
   "metadata": {},
   "outputs": [],
   "source": [
    "df_sub = df[idx].sort_values(['data','setting','split'])"
   ]
  },
  {
   "cell_type": "code",
   "execution_count": 12,
   "metadata": {},
   "outputs": [
    {
     "data": {
      "text/plain": [
       "(32, 13)"
      ]
     },
     "execution_count": 12,
     "metadata": {},
     "output_type": "execute_result"
    }
   ],
   "source": [
    "df_sub.shape"
   ]
  },
  {
   "cell_type": "code",
   "execution_count": 13,
   "metadata": {},
   "outputs": [],
   "source": [
    "prev = -20\n",
    "final = []\n",
    "for index, row in df_sub.iterrows():\n",
    "    if prev == row['split']:\n",
    "        pass\n",
    "    else:\n",
    "        final.append(row)"
   ]
  },
  {
   "cell_type": "code",
   "execution_count": 15,
   "metadata": {},
   "outputs": [],
   "source": [
    "pd.DataFrame(final).to_csv('lpn_random.csv')"
   ]
  },
  {
   "cell_type": "code",
   "execution_count": null,
   "metadata": {},
   "outputs": [],
   "source": []
  }
 ],
 "metadata": {
  "kernelspec": {
   "display_name": "ml",
   "language": "python",
   "name": "ml"
  },
  "language_info": {
   "codemirror_mode": {
    "name": "ipython",
    "version": 3
   },
   "file_extension": ".py",
   "mimetype": "text/x-python",
   "name": "python",
   "nbconvert_exporter": "python",
   "pygments_lexer": "ipython3",
   "version": "3.6.3"
  }
 },
 "nbformat": 4,
 "nbformat_minor": 2
}

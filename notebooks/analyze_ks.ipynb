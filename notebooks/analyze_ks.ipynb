{
 "cells": [
  {
   "cell_type": "code",
   "execution_count": 1,
   "metadata": {},
   "outputs": [],
   "source": [
    "import pandas as pd\n",
    "import numpy as np"
   ]
  },
  {
   "cell_type": "code",
   "execution_count": 5,
   "metadata": {},
   "outputs": [],
   "source": [
    "gcn = pd.read_csv('/Users/kojin/Dropbox/DeepLP Final Data/ks/gcn.csv',index_col=0)"
   ]
  },
  {
   "cell_type": "code",
   "execution_count": 21,
   "metadata": {},
   "outputs": [
    {
     "data": {
      "text/plain": [
       "data                 unlabel_prob\n",
       "linqs_data/citeseer  0.95            0.709629\n",
       "                     0.96            0.690717\n",
       "                     0.97            0.652053\n",
       "                     0.98            0.621045\n",
       "                     0.99            0.519205\n",
       "linqs_data/cora      0.95            0.788982\n",
       "                     0.96            0.758366\n",
       "                     0.97            0.754359\n",
       "                     0.98            0.686900\n",
       "                     0.99            0.594471\n",
       "Name: accuracy, dtype: float64"
      ]
     },
     "execution_count": 21,
     "metadata": {},
     "output_type": "execute_result"
    }
   ],
   "source": [
    "gcn[gcn.gcn_val].groupby(['data','unlabel_prob']).accuracy.mean()"
   ]
  },
  {
   "cell_type": "code",
   "execution_count": 22,
   "metadata": {},
   "outputs": [],
   "source": [
    "lpn1 = pd.read_csv('/Users/kojin/Dropbox/DeepLP Final Data/ks/lpn/cora_citeseer_k.csv',index_col=0)\n",
    "lpn2 = pd.read_csv('/Users/kojin/Dropbox/DeepLP Final Data/ks/lpn/pubmed_k.csv',index_col=0)\n",
    "lpn = pd.concat([lpn1,lpn2])"
   ]
  },
  {
   "cell_type": "code",
   "execution_count": 23,
   "metadata": {},
   "outputs": [
    {
     "data": {
      "text/plain": [
       "data      prob  \n",
       "citeseer  0.9500    0.670459\n",
       "          0.9600    0.659012\n",
       "          0.9700    0.643988\n",
       "          0.9800    0.620706\n",
       "          0.9900    0.548132\n",
       "cora      0.9500    0.773941\n",
       "          0.9600    0.756981\n",
       "          0.9700    0.740124\n",
       "          0.9800    0.715277\n",
       "          0.9900    0.657764\n",
       "pubmed    0.9900    0.745258\n",
       "          0.9925    0.731826\n",
       "          0.9950    0.726119\n",
       "          0.9975    0.678858\n",
       "Name: acc, dtype: float64"
      ]
     },
     "execution_count": 23,
     "metadata": {},
     "output_type": "execute_result"
    }
   ],
   "source": [
    "lpn.groupby(['data','prob']).acc.mean()"
   ]
  },
  {
   "cell_type": "code",
   "execution_count": null,
   "metadata": {},
   "outputs": [],
   "source": []
  }
 ],
 "metadata": {
  "kernelspec": {
   "display_name": "ml",
   "language": "python",
   "name": "ml"
  },
  "language_info": {
   "codemirror_mode": {
    "name": "ipython",
    "version": 3
   },
   "file_extension": ".py",
   "mimetype": "text/x-python",
   "name": "python",
   "nbconvert_exporter": "python",
   "pygments_lexer": "ipython3",
   "version": "3.6.3"
  }
 },
 "nbformat": 4,
 "nbformat_minor": 2
}

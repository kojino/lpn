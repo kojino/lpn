{
 "cells": [
  {
   "cell_type": "code",
   "execution_count": 1,
   "metadata": {},
   "outputs": [
    {
     "name": "stderr",
     "output_type": "stream",
     "text": [
      "/Users/kojin/anaconda/envs/ml/lib/python3.6/importlib/_bootstrap.py:219: RuntimeWarning: compiletime version 3.5 of module 'tensorflow.python.framework.fast_tensor_util' does not match runtime version 3.6\n",
      "  return f(*args, **kwds)\n"
     ]
    }
   ],
   "source": [
    "from __future__ import print_function\n",
    "from pathlib import Path\n",
    "from random import shuffle\n",
    "import random\n",
    "\n",
    "import argparse\n",
    "import copy\n",
    "import numpy as np\n",
    "import sys\n",
    "import tensorflow as tf\n",
    "import scipy.sparse as sp\n",
    "import sys\n",
    "\n",
    "import sys\n",
    "sys.path.append(\"..\") \n",
    "from deeplp.models.deeplp_att import DeepLP_ATT\n",
    "from deeplp.models.deeplp_edge import DeepLP_Edge\n",
    "from deeplp.models.deeplp_wrbf import DeepLP_WRBF\n",
    "from deeplp.models.lp import LP\n",
    "from deeplp.utils import (calc_masks, create_seed_features, load_data,\n",
    "                          num_layers_dict, prepare_data, random_unlabel)"
   ]
  },
  {
   "cell_type": "code",
   "execution_count": 2,
   "metadata": {},
   "outputs": [],
   "source": [
    "true_labels, edge_features, graph \\\n",
    "= load_data('linqs_cora',model='edge')\n",
    "\n",
    "labeled_indices, unlabeled_indices = \\\n",
    "random_unlabel(true_labels,0.01,\n",
    "   seed=1)\n",
    "num_nodes, num_classes = true_labels.shape\n",
    "\n",
    "labels, is_labeled = calc_masks(true_labels, labeled_indices, unlabeled_indices)"
   ]
  },
  {
   "cell_type": "code",
   "execution_count": 31,
   "metadata": {},
   "outputs": [],
   "source": [
    "from scipy.sparse.linalg import eigs as eigs\n",
    "from scipy.sparse.csgraph import laplacian as lap\n",
    "from sklearn.preprocessing import normalize"
   ]
  },
  {
   "cell_type": "code",
   "execution_count": 47,
   "metadata": {},
   "outputs": [],
   "source": [
    "l = lap(graph)"
   ]
  },
  {
   "cell_type": "code",
   "execution_count": 48,
   "metadata": {},
   "outputs": [
    {
     "data": {
      "text/plain": [
       "(2485, 2485)"
      ]
     },
     "execution_count": 48,
     "metadata": {},
     "output_type": "execute_result"
    }
   ],
   "source": [
    "l.shape"
   ]
  },
  {
   "cell_type": "code",
   "execution_count": 51,
   "metadata": {},
   "outputs": [
    {
     "data": {
      "text/plain": [
       "(array([ 3848.38445552+0.j,  3109.73393534+0.j]),\n",
       " array([[ -4.64110389e-20+0.j,  -2.02578057e-19+0.j],\n",
       "        [  3.81685969e-19+0.j,   1.31394082e-18+0.j],\n",
       "        [ -3.53783280e-19+0.j,  -7.87159040e-19+0.j],\n",
       "        ..., \n",
       "        [  2.54094511e-19+0.j,   1.00516592e-18+0.j],\n",
       "        [  4.16253206e-19+0.j,   1.12867624e-18+0.j],\n",
       "        [  2.83508208e-19+0.j,   6.36090046e-19+0.j]]))"
      ]
     },
     "execution_count": 51,
     "metadata": {},
     "output_type": "execute_result"
    }
   ],
   "source": [
    "eigs(m,k=2,which='LR')"
   ]
  },
  {
   "cell_type": "code",
   "execution_count": 53,
   "metadata": {},
   "outputs": [
    {
     "data": {
      "text/plain": [
       "(0.8080621807105308, 0.6212497605154653)"
      ]
     },
     "execution_count": 53,
     "metadata": {},
     "output_type": "execute_result"
    }
   ],
   "source": [
    "3109.73393534/3848.38445552, 105/169.01414966"
   ]
  },
  {
   "cell_type": "code",
   "execution_count": 6,
   "metadata": {},
   "outputs": [],
   "source": [
    "from deeplp.utils import (sigma_for_rbf,rbf,load_graph,edge_np_to_csr)"
   ]
  },
  {
   "cell_type": "code",
   "execution_count": 7,
   "metadata": {},
   "outputs": [],
   "source": [
    "U, D, B, R, node_features = load_graph('linqs_cora')\n"
   ]
  },
  {
   "cell_type": "code",
   "execution_count": 8,
   "metadata": {},
   "outputs": [],
   "source": [
    "edges = np.array(B.edges())\n",
    "sources, sinks = edges[:, 0], edges[:, 1]"
   ]
  },
  {
   "cell_type": "code",
   "execution_count": 9,
   "metadata": {},
   "outputs": [],
   "source": [
    "p='../data/linqs_cora/features_raw.csv'\n",
    "x=np.loadtxt(p, delimiter=',')"
   ]
  },
  {
   "cell_type": "code",
   "execution_count": 10,
   "metadata": {},
   "outputs": [],
   "source": [
    "s=sigma_for_rbf(x)"
   ]
  },
  {
   "cell_type": "code",
   "execution_count": 11,
   "metadata": {},
   "outputs": [],
   "source": [
    "from sklearn.metrics.pairwise import (euclidean_distances, paired_distances,\n",
    "                                      rbf_kernel,)"
   ]
  },
  {
   "cell_type": "code",
   "execution_count": 12,
   "metadata": {},
   "outputs": [],
   "source": [
    "row_features = x[sources]\n",
    "col_features = x[sinks]\n",
    "d=paired_distances(row_features, col_features, metric=rbf)"
   ]
  },
  {
   "cell_type": "code",
   "execution_count": 13,
   "metadata": {},
   "outputs": [],
   "source": [
    "n=np.column_stack((sources,sinks))"
   ]
  },
  {
   "cell_type": "code",
   "execution_count": 17,
   "metadata": {},
   "outputs": [],
   "source": [
    "from scipy.sparse import coo_matrix, csr_matrix"
   ]
  },
  {
   "cell_type": "code",
   "execution_count": 15,
   "metadata": {},
   "outputs": [],
   "source": [
    "\n",
    "def edge_np_to_csr(graph, vals=[]):\n",
    "    \"\"\"\n",
    "    Convert np array with each row being (row_index,col_index,value)\n",
    "    of a graph to a scipy csr matrix.\n",
    "    \"\"\"\n",
    "    num_nodes = int(max(max(graph[:, 0]), max(graph[:, 1])) + 1)\n",
    "    if len(vals) == 0:\n",
    "        vals = np.ones(len(graph[:, 0]))\n",
    "    csr = csr_matrix(\n",
    "        (vals, (graph[:, 0], graph[:, 1])), shape=(num_nodes, num_nodes))\n",
    "    return csr"
   ]
  },
  {
   "cell_type": "code",
   "execution_count": 19,
   "metadata": {},
   "outputs": [],
   "source": [
    "m=edge_np_to_csr(n,vals=d)"
   ]
  },
  {
   "cell_type": "code",
   "execution_count": 29,
   "metadata": {},
   "outputs": [],
   "source": [
    "def _tnorm(weights):\n",
    "    \"\"\"Column normalize weights\"\"\"\n",
    "    # row normalize T\n",
    "    Tnorm = weights / np.sum(weights, axis=1, keepdims=True)\n",
    "    return Tnorm"
   ]
  },
  {
   "cell_type": "code",
   "execution_count": 28,
   "metadata": {},
   "outputs": [
    {
     "data": {
      "text/plain": [
       "array([ 0.00201207,  0.00160966,  0.00040241, ...,  0.00241449,\n",
       "        0.00201207,  0.00120724])"
      ]
     },
     "execution_count": 28,
     "metadata": {},
     "output_type": "execute_result"
    }
   ],
   "source": [
    "np.mean(graph.toarray(),axis=1)"
   ]
  },
  {
   "cell_type": "code",
   "execution_count": null,
   "metadata": {},
   "outputs": [],
   "source": []
  }
 ],
 "metadata": {
  "kernelspec": {
   "display_name": "ml",
   "language": "python",
   "name": "ml"
  },
  "language_info": {
   "codemirror_mode": {
    "name": "ipython",
    "version": 3
   },
   "file_extension": ".py",
   "mimetype": "text/x-python",
   "name": "python",
   "nbconvert_exporter": "python",
   "pygments_lexer": "ipython3",
   "version": "3.6.3"
  }
 },
 "nbformat": 4,
 "nbformat_minor": 2
}

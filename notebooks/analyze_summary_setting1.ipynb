{
 "cells": [
  {
   "cell_type": "code",
   "execution_count": 7,
   "metadata": {},
   "outputs": [],
   "source": [
    "from operator import itemgetter "
   ]
  },
  {
   "cell_type": "code",
   "execution_count": 2,
   "metadata": {},
   "outputs": [],
   "source": [
    "lines = tuple(open('../summary1/res.txt', 'r'))"
   ]
  },
  {
   "cell_type": "code",
   "execution_count": 9,
   "metadata": {},
   "outputs": [
    {
     "data": {
      "text/plain": [
       "['citeseer', 'balanced', '-10.0', '-1']"
      ]
     },
     "execution_count": 9,
     "metadata": {},
     "output_type": "execute_result"
    }
   ],
   "source": [
    "\n"
   ]
  },
  {
   "cell_type": "code",
   "execution_count": 39,
   "metadata": {},
   "outputs": [],
   "source": [
    "ress = []\n",
    "for i in range(int(len(lines)/3)):\n",
    "    a = lines[3*i].split(\"_\")\n",
    "    b = lines[3*i+1].split(\",\")\n",
    "    \n",
    "    res = list(itemgetter(*[3,6,7,8])(a)) + b\n",
    "    res_ = []\n",
    "    for el in res:\n",
    "        el = el.replace('\\n','')\n",
    "        try:\n",
    "            res_.append(float(el))\n",
    "        except:\n",
    "            res_.append(el)\n",
    "    ress.append(res_)\n",
    "    "
   ]
  },
  {
   "cell_type": "code",
   "execution_count": 40,
   "metadata": {},
   "outputs": [
    {
     "data": {
      "text/plain": [
       "['citeseer',\n",
       " 'balanced',\n",
       " -10.0,\n",
       " -1.0,\n",
       " 0.0,\n",
       " 0.655441,\n",
       " 0.199452,\n",
       " 2.873064,\n",
       " 2.905076,\n",
       " 0.206204,\n",
       " 0.678,\n",
       " 0.663,\n",
       " 0.7,\n",
       " 0.577549]"
      ]
     },
     "execution_count": 40,
     "metadata": {},
     "output_type": "execute_result"
    }
   ],
   "source": [
    "ress[0]"
   ]
  },
  {
   "cell_type": "code",
   "execution_count": 41,
   "metadata": {},
   "outputs": [],
   "source": [
    "import pandas as pd\n",
    "df = pd.DataFrame(ress, columns=['data','setting','lamda','split','crossval','acc','l_o_loss','a','b','obj','valacc','targetacc','gccacc','nogccacc'])\n"
   ]
  },
  {
   "cell_type": "code",
   "execution_count": 42,
   "metadata": {},
   "outputs": [],
   "source": [
    "idx = df.groupby(['data','setting','split'])['valacc'].transform(max) == df['valacc']"
   ]
  },
  {
   "cell_type": "code",
   "execution_count": 52,
   "metadata": {},
   "outputs": [],
   "source": [
    "df_sub = df[idx].sort_values(['data','setting','split'])"
   ]
  },
  {
   "cell_type": "code",
   "execution_count": 55,
   "metadata": {},
   "outputs": [
    {
     "data": {
      "text/plain": [
       "(64, 14)"
      ]
     },
     "execution_count": 55,
     "metadata": {},
     "output_type": "execute_result"
    }
   ],
   "source": [
    "df_sub.shape"
   ]
  },
  {
   "cell_type": "code",
   "execution_count": 60,
   "metadata": {},
   "outputs": [],
   "source": [
    "prev = -20\n",
    "final = []\n",
    "for index, row in df_sub.iterrows():\n",
    "    if prev == row['split']:\n",
    "        pass\n",
    "    else:\n",
    "        final.append(row)\n",
    "    prev = row['split']"
   ]
  },
  {
   "cell_type": "code",
   "execution_count": 63,
   "metadata": {},
   "outputs": [],
   "source": [
    "pd.DataFrame(final).to_csv('lpn_balanced.csv')"
   ]
  },
  {
   "cell_type": "code",
   "execution_count": null,
   "metadata": {},
   "outputs": [],
   "source": []
  }
 ],
 "metadata": {
  "kernelspec": {
   "display_name": "ml",
   "language": "python",
   "name": "ml"
  },
  "language_info": {
   "codemirror_mode": {
    "name": "ipython",
    "version": 3
   },
   "file_extension": ".py",
   "mimetype": "text/x-python",
   "name": "python",
   "nbconvert_exporter": "python",
   "pygments_lexer": "ipython3",
   "version": "3.6.3"
  }
 },
 "nbformat": 4,
 "nbformat_minor": 2
}
